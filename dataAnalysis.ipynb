{
 "cells": [
  {
   "cell_type": "code",
   "execution_count": 70,
   "metadata": {},
   "outputs": [],
   "source": [
    "import pandas as pd\n",
    "from numpy import percentile\n",
    "import scipy.stats\n",
    "import numpy as np\n",
    "import matplotlib.mlab as mlab\n",
    "import matplotlib.pyplot as plt\n",
    "from scipy import stats"
   ]
  },
  {
   "cell_type": "code",
   "execution_count": 91,
   "metadata": {},
   "outputs": [
    {
     "data": {
      "text/plain": [
       "Ttest_indResult(statistic=0.5461821125601757, pvalue=0.5861820444893707)"
      ]
     },
     "execution_count": 91,
     "metadata": {},
     "output_type": "execute_result"
    }
   ],
   "source": [
    "stats.ttest_ind(rand,a)\n"
   ]
  },
  {
   "cell_type": "code",
   "execution_count": 86,
   "metadata": {
    "scrolled": false
   },
   "outputs": [
    {
     "name": "stdout",
     "output_type": "stream",
     "text": [
      "Number of Runs: 50\n",
      "Min: 8.000\n",
      "Q1: 26.250\n",
      "Median: 34.000\n",
      "Q3: 39.000\n",
      "Max: 57.000\n",
      "Mean: 33.720\n",
      "The 95.0% confidence interval is between 30.813 and 36.627.\n"
     ]
    },
    {
     "data": {
      "image/png": "[encoded data removed]",
      "text/plain": [
       "<Figure size 432x288 with 1 Axes>"
      ]
     },
     "metadata": {
      "needs_background": "light"
     },
     "output_type": "display_data"
    }
   ],
   "source": [
    "a = get_array_from_file('better-shortest_lifetime_log.txt')\n",
    "rand = get_array_from_file('better-shortest-rand_lifetime_log.txt')\n",
    "print(\"Number of Runs: \" + str(len(a)))\n",
    "five_number_summary(a)\n",
    "mean_confidence_interval(a)\n",
    "histogram(a)"
   ]
  },
  {
   "cell_type": "code",
   "execution_count": 76,
   "metadata": {},
   "outputs": [],
   "source": [
    "def get_array_from_file(file_name):\n",
    "    arr = []\n",
    "    with open(file_name) as f:\n",
    "        for l in f:\n",
    "            arr.append(int(l))\n",
    "    return np.asarray(arr)"
   ]
  },
  {
   "cell_type": "code",
   "execution_count": 65,
   "metadata": {},
   "outputs": [],
   "source": [
    "def histogram(a):\n",
    "    num_bins = 10\n",
    "    n, bins, patches = plt.hist(a, num_bins, facecolor='blue', alpha=0.5)\n",
    "    plt.xlabel('Final Score')\n",
    "    plt.ylabel('Frequency')\n",
    "    plt.title('Shortest Path: No self collisions, random RSA choice (n=' + str(len(a)) +')')\n",
    "    plt.show()\n",
    "    plt"
   ]
  },
  {
   "cell_type": "code",
   "execution_count": 24,
   "metadata": {},
   "outputs": [],
   "source": [
    "def five_number_summary(lst):\n",
    "    lst = np.asarray(lst)\n",
    "    quartiles = percentile(lst, [25, 50, 75])\n",
    "    # calculate min/max\n",
    "    data_min, data_max, data_mean = lst.min(), lst.max(), lst.mean()\n",
    "    # print 5-number summary\n",
    "    print('Min: %.3f' % data_min)\n",
    "    print('Q1: %.3f' % quartiles[0])\n",
    "    print('Median: %.3f' % quartiles[1])\n",
    "    print('Q3: %.3f' % quartiles[2])\n",
    "    print('Max: %.3f' % data_max)\n",
    "    print('Mean: %.3f' % data_mean)"
   ]
  },
  {
   "cell_type": "code",
   "execution_count": 40,
   "metadata": {},
   "outputs": [],
   "source": [
    "def mean_confidence_interval(data, confidence=0.95):\n",
    "    a = 1.0 * np.array(data)\n",
    "    n = len(a)\n",
    "    m, se = np.mean(a), scipy.stats.sem(a)\n",
    "    h = se * scipy.stats.t.ppf((1 + confidence) / 2., n-1)\n",
    "    print(\"The \" + str(confidence *100) +\"% confidence interval is between \" + \n",
    "          str(round(m-h, 3)) + \" and \" + str(round(m+h,3))+ \".\")"
   ]
  },
  {
   "cell_type": "code",
   "execution_count": null,
   "metadata": {},
   "outputs": [],
   "source": []
  }
 ],
 "metadata": {
  "kernelspec": {
   "display_name": "Python 3",
   "language": "python",
   "name": "python3"
  },
  "language_info": {
   "codemirror_mode": {
    "name": "ipython",
    "version": 3
   },
   "file_extension": ".py",
   "mimetype": "text/x-python",
   "name": "python",
   "nbconvert_exporter": "python",
   "pygments_lexer": "ipython3",
   "version": "3.7.3"
  }
 },
 "nbformat": 4,
 "nbformat_minor": 2
}
